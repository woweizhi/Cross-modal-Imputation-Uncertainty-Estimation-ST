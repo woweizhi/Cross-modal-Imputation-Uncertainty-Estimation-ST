{
 "cells": [
  {
   "cell_type": "code",
   "execution_count": null,
   "id": "ad208af1-5e14-4600-b36a-7a39230b9519",
   "metadata": {},
   "outputs": [],
   "source": [
    "import scSpace\n",
    "import scanpy as sc\n",
    "import anndata\n",
    "import matplotlib.pyplot as plt\n",
    "import matplotlib.colors as clr\n",
    "import numpy as np\n",
    "import pandas as pd\n",
    "import scipy\n",
    "from sklearn.metrics import adjusted_rand_score\n",
    "import random\n",
    "import torch\n",
    "import warnings\n",
    "warnings.filterwarnings(\"ignore\")"
   ]
  },
  {
   "cell_type": "code",
   "execution_count": null,
   "id": "fcfdbaa1-4b3e-4594-bd1f-b62e8ca73dac",
   "metadata": {},
   "outputs": [],
   "source": [
    "def setup_seed(seed):\n",
    "    torch.manual_seed(seed)\n",
    "    torch.cuda.manual_seed_all(seed)\n",
    "    torch.cuda.manual_seed(seed)\n",
    "    np.random.seed(seed)\n",
    "    random.seed(seed)\n",
    "    torch.backends.cudnn.deterministic = True\n",
    "    torch.backends.cudnn.enabled = False\n",
    "    torch.backends.cudnn.benchmark = False\n",
    "    \n",
    "setup_seed(100)"
   ]
  },
  {
   "cell_type": "code",
   "execution_count": null,
   "id": "cc452fcb-8176-428a-815c-161e99e9c3fd",
   "metadata": {},
   "outputs": [],
   "source": [
    "root = \"./\"\n",
    "data_id = \"embryo\"\n",
    "\n",
    "our_spatial = anndata.read_loom(f\"{root}/results/{data_id}/imputeFormer_ST_{data_id}.loom\", var_names='var_names', obs_names=\"obs_names\")\n",
    "our_seq = anndata.read_loom(f\"{root}/results/{data_id}/imputeFormer_SC_{data_id}.loom\", var_names='var_names', obs_names=\"obs_names\")"
   ]
  },
  {
   "cell_type": "code",
   "execution_count": null,
   "id": "b69b9855-4bbe-41f8-9d9b-bae5468e06b1",
   "metadata": {},
   "outputs": [],
   "source": [
    "our_spatial"
   ]
  },
  {
   "cell_type": "code",
   "execution_count": null,
   "id": "87e9507f-e11f-4a55-8def-b0dad09f7490",
   "metadata": {},
   "outputs": [],
   "source": [
    "our_seq.X = our_seq.X.todense()"
   ]
  },
  {
   "cell_type": "code",
   "execution_count": null,
   "id": "7ab1feb3-178e-4746-a8a2-f99a75030c64",
   "metadata": {},
   "outputs": [],
   "source": [
    "our_spatial.X = our_spatial.X.todense()"
   ]
  },
  {
   "cell_type": "code",
   "execution_count": null,
   "id": "1bfc666e-a2d4-4c2e-b4f6-8e61ca5a08c3",
   "metadata": {},
   "outputs": [],
   "source": [
    "our_seq.X"
   ]
  },
  {
   "cell_type": "code",
   "execution_count": null,
   "id": "438489ac-60ee-4394-9c26-068d9024138c",
   "metadata": {},
   "outputs": [],
   "source": [
    "#sc_obj, st_obj = scSpace.preporcess(sc_adata=our_seq, st_adata=our_spatial, st_type='image', n_features=2000, normalize=True)"
   ]
  },
  {
   "cell_type": "code",
   "execution_count": null,
   "id": "e634a3a0-e761-42ad-87bf-f906a7c26414",
   "metadata": {},
   "outputs": [],
   "source": [
    "sc.pp.normalize_total(our_seq, target_sum=1e4)\n",
    "sc.pp.log1p(our_seq)\n",
    "# st_adata\n",
    "sc.pp.normalize_total(our_spatial, target_sum=1e4)\n",
    "sc.pp.log1p(our_spatial)"
   ]
  },
  {
   "cell_type": "code",
   "execution_count": null,
   "id": "c0cad689-3b89-4b98-bd4c-b61af850df5f",
   "metadata": {},
   "outputs": [],
   "source": [
    "## modify the contruct_psedudo_space to return the mlp location prediction function\n",
    "\n",
    "sc_obj, st_obj, mlp_pos = scSpace.construct_pseudo_space(\n",
    "    sc_adata=our_seq,\n",
    "    st_adata=our_spatial,\n",
    "    batch_size=128,\n",
    "    activation='sigmoid',\n",
    "    lr=0.001,\n",
    "    epoch_num=1000,\n",
    "    log_epoch=1000)"
   ]
  },
  {
   "cell_type": "code",
   "execution_count": null,
   "id": "fcac0fb1-b302-48bf-9477-3589714d1fac",
   "metadata": {},
   "outputs": [],
   "source": [
    "sc_obj"
   ]
  },
  {
   "cell_type": "code",
   "execution_count": null,
   "id": "6bfc87f5-57d6-4076-a2d4-2fdbce6b1546",
   "metadata": {},
   "outputs": [],
   "source": [
    "st_obj"
   ]
  },
  {
   "cell_type": "code",
   "execution_count": null,
   "id": "d97faa3f-d391-486c-a889-458fa438d19f",
   "metadata": {},
   "outputs": [],
   "source": [
    "mlp_pos.eval()\n",
    "\n",
    "st_pred_pos = mlp_pos(torch.tensor(st_obj.obsm['TCA']).to('cuda', torch.float32))\n",
    "st_pred_pos = st_pred_pos.cpu().detach().numpy()"
   ]
  },
  {
   "cell_type": "code",
   "execution_count": null,
   "id": "f1fd190f-8922-4b0d-959d-954b10b2ec1a",
   "metadata": {},
   "outputs": [],
   "source": [
    "st_pred_pos"
   ]
  },
  {
   "cell_type": "code",
   "execution_count": null,
   "id": "831de54e-1b2b-4862-894b-e6c3f23c4f6c",
   "metadata": {},
   "outputs": [],
   "source": [
    "sc_obj.obsm['pseudo_space']"
   ]
  },
  {
   "cell_type": "code",
   "execution_count": null,
   "id": "edaea0b0-d3d9-4af2-9c54-9d6ea74a0c34",
   "metadata": {},
   "outputs": [],
   "source": [
    "sc_obj.obsm['spatial'] = sc_obj.obsm['pseudo_space']"
   ]
  },
  {
   "cell_type": "code",
   "execution_count": null,
   "id": "0c11c79c",
   "metadata": {},
   "outputs": [],
   "source": [
    "np.save(\"scSpace_inferME_STpos.npy\", st_pred_pos)\n",
    "np.save(\"scSpace_inferME_SCpos.npy\", sc_obj.obsm['pseudo_space'])"
   ]
  },
  {
   "cell_type": "code",
   "execution_count": null,
   "id": "919e4b65-30a8-4d53-9940-416682d2461e",
   "metadata": {},
   "outputs": [],
   "source": [
    "from matplotlib import cm, colors\n",
    "import seaborn as sns\n",
    "import matplotlib.pyplot as plt\n",
    "import matplotlib as mpl\n",
    "import matplotlib.font_manager # to solve: Font family ['sans-serif'] not found. Falling back to DejaVu Sans.\n",
    "import json\n",
    "\n",
    "centimeter = 1/2.54  # centimeter in inches\n",
    "\n",
    "# https://www.geeksforgeeks.org/react-js-blueprint-colors-qualitative-color-schemes/\n",
    "react_cols_10 = ['#147EB3','#29A634','#D1980B','#D33D17','#9D3F9D','#00A396','#DB2C6F','#8EB125','#946638','#7961DB']\n",
    "\n",
    "# http://tsitsul.in/blog/coloropt/\n",
    "norm_7 = ['#4053d3','#ddb310','#b51d14','#00beff','#fb49b0','#00b25d','#cacaca']\n",
    "norm_12 = ['#ebac23','#b80058','#008cf9','#006e00','#00bbad','#d163e6','#b24502',\n",
    "           '#ff9287','#5954d6','#00c6f8','#878500','#00a76c','#bdbdbd']\n",
    "\n",
    "def config_rc(dpi=400, font_size=6, lw=1.):\n",
    "    # matplotlib.rcParams.keys()\n",
    "    rc={\n",
    "        'font.size': font_size, \n",
    "        'axes.labelsize': font_size, \n",
    "        'axes.titlesize': font_size, \n",
    "        'xtick.labelsize': font_size, \n",
    "        'ytick.labelsize': font_size,\n",
    "        'figure.dpi':dpi,'axes.linewidth':lw,\n",
    "        'legend.markerscale': 0.8, \n",
    "        'legend.markerscale': 0.8, \n",
    "        'legend.loc': 'upper right',\n",
    "        'legend.borderpad':0.2,\n",
    "        'legend.columnspacing': 0.5,\n",
    "        'legend.labelspacing': 0.2,\n",
    "        'legend.handletextpad': 0.1,\n",
    "        'legend.borderaxespad': 0.1,\n",
    "        'legend.handleheight': 1.0,\n",
    "        'legend.handlelength': 1.0,\n",
    "    } # 'figure.figsize':(11.7/1.5,8.27/1.5)\n",
    "    \n",
    "    sns.set(style='ticks',rc=rc) \n",
    "    sns.set_context(\"paper\")\n",
    "\n",
    "    mpl.rcParams.update(rc)\n",
    "\n",
    "    mpl.rcParams['pdf.fonttype'] = 42\n",
    "    mpl.rcParams['ps.fonttype'] = 42\n",
    "\n",
    "    #mpl.rcParams['font.sans-serif'] = \"Arial\"\n",
    "    mpl.rcParams['font.family'] = \"sans-serif\"\n",
    "    mpl.rcParams['axes.unicode_minus']=False # negative minus sign"
   ]
  },
  {
   "cell_type": "code",
   "execution_count": null,
   "id": "c3c0d4aa-11e1-460d-836f-456375c2cdda",
   "metadata": {},
   "outputs": [],
   "source": [
    "config_rc(dpi=300, font_size=5)\n",
    "\n",
    "sc_change = {'Blood progenitors 1': \"Blood progenitors\", 'Blood progenitors 2': \"Blood progenitors\", \n",
    "             'Erythroid1': 'Erythroid', 'Erythroid2':'Erythroid', 'Erythroid3': 'Erythroid' }\n",
    "our_seq.obs[\"celltype\"] = our_seq.obs[\"celltype\"].replace(sc_change)\n",
    "\n",
    "st_change = {'Presomitic mesoderm': \"Somitic mesoderm\", 'Splanchnic mesoderm': \"Pharyngeal mesoderm\", 'Definitive endoderm': 'Def. endoderm',\n",
    "            'Gut tube': \"Gut\", 'Mixed mesenchymal mesoderm': \"Mesenchyme\"}\n",
    "our_spatial.obs[\"celltype_mapped_refined\"] = our_spatial.obs[\"celltype_mapped_refined\"].replace(st_change)\n",
    "\n",
    "_palette = {'Allantois': '#1CE6FF',\n",
    " 'Anterior somitic tissues': '#FF34FF',\n",
    " 'Blood progenitors': '#FF4A46',\n",
    " 'Cardiomyocytes': '#008941',\n",
    " 'Caudal Mesoderm': '#006FA6',\n",
    " 'Cranial mesoderm': '#A30059',\n",
    " 'Def. endoderm': '#FFDBE5',\n",
    " 'Dermomyotome': '#7A4900',\n",
    " 'Endothelium': '#0000A6',\n",
    " 'Erythroid': '#63FFAC',\n",
    " 'ExE endoderm': '#B79762',\n",
    " 'ExE mesoderm': '#004D43',\n",
    " 'Forebrain/Midbrain/Hindbrain': '#8FB0FF',\n",
    " 'Gut': '#997D87',\n",
    " 'Haematoendothelial progenitors': '#5A0007',\n",
    " 'Intermediate mesoderm': '#809693',\n",
    " 'Lateral plate mesoderm': '#6A3A4C',\n",
    " 'Low quality': '#1B4400',\n",
    " 'Mesenchyme': '#4FC601',\n",
    " 'NMP': '#3B5DFF',\n",
    " 'Neural crest': '#4A3B53',\n",
    " 'Notochord': '#FF2F80',\n",
    " 'PGC': '#61615A',\n",
    " 'Paraxial mesoderm': '#BA0900',\n",
    " 'Pharyngeal mesoderm': '#6B7900',\n",
    " 'Rostral neurectoderm': '#00C2A0',\n",
    " 'Sclerotome': '#FFAA92',\n",
    " 'Somitic mesoderm': '#FF90C9',\n",
    " 'Spinal cord': '#B903AA',\n",
    " 'Surface ectoderm': '#D16100',\n",
    " 'Visceral endoderm': '#DDEFFF'}"
   ]
  },
  {
   "cell_type": "markdown",
   "id": "988df3b4-3e80-46e0-a598-9fed55d566d2",
   "metadata": {},
   "source": [
    "### plot the pseudo-space for spatial transcriptomics"
   ]
  },
  {
   "cell_type": "code",
   "execution_count": null,
   "id": "1128d250-a3d5-432b-af9e-12fee1c1d266",
   "metadata": {},
   "outputs": [],
   "source": [
    "our_spatial.obsm[\"raw_spatial\"] = our_spatial.obsm[\"spatial\"]\n",
    "our_spatial.obsm[\"spatial\"] = st_pred_pos\n",
    "sc.pl.spatial(our_spatial, color=\"celltype_mapped_refined\", palette=_palette, spot_size=0.05, legend_loc=None)"
   ]
  },
  {
   "cell_type": "code",
   "execution_count": null,
   "id": "64310e7a-f9da-4ba4-9e70-38c24ae53d23",
   "metadata": {},
   "outputs": [],
   "source": [
    "our_spatial.obsm[\"infer_spatial\"] = st_pred_pos"
   ]
  },
  {
   "cell_type": "code",
   "execution_count": null,
   "id": "0ba30e04-6ea1-4f8a-862d-858e7f6a399c",
   "metadata": {},
   "outputs": [],
   "source": [
    "our_spatial.write_loom(\"scSpace_ME_ST.loom\")"
   ]
  },
  {
   "cell_type": "code",
   "execution_count": null,
   "id": "3fe4fff6-dd98-406b-afcf-710753b9c33b",
   "metadata": {},
   "outputs": [],
   "source": [
    "sc_obj.write_loom(\"scSpace_ME_SC.loom\")"
   ]
  },
  {
   "cell_type": "code",
   "execution_count": null,
   "id": "2683b703-fd28-410b-b9d0-afdc125ae4d2",
   "metadata": {},
   "outputs": [],
   "source": []
  },
  {
   "cell_type": "markdown",
   "id": "aef04d5b-b9f8-4fdb-9867-2fd3b895c991",
   "metadata": {},
   "source": [
    "### plot the pseudo-space for single cell data"
   ]
  },
  {
   "cell_type": "code",
   "execution_count": null,
   "id": "857224c5-1be9-4c11-8993-50860e2416fc",
   "metadata": {},
   "outputs": [],
   "source": [
    "sc.pl.spatial(sc_obj, color=\"celltype\", palette=_palette, spot_size=0.07, legend_loc=None)"
   ]
  },
  {
   "cell_type": "code",
   "execution_count": null,
   "id": "74f2702d-1217-42d5-ae2d-09a0eb394661",
   "metadata": {},
   "outputs": [],
   "source": []
  },
  {
   "cell_type": "markdown",
   "id": "0ee1e6c4-ff69-4e4d-9003-91c054bb1e79",
   "metadata": {},
   "source": [
    "### Calculate the KNN of the same cell-type based on psuedo-space"
   ]
  },
  {
   "cell_type": "code",
   "execution_count": null,
   "id": "2670a4ff-5e05-4c10-91ba-e2fd04eb289f",
   "metadata": {},
   "outputs": [],
   "source": [
    "from sklearn.neighbors import KNeighborsClassifier\n",
    "from sklearn.preprocessing import LabelEncoder\n",
    "from sklearn.datasets import make_classification\n",
    "\n",
    "X = our_seq.obsm[\"spatial\"]\n",
    "\n",
    "# Convert discrete labels to numerical labels\n",
    "label_encoder = LabelEncoder()\n",
    "#y = label_encoder.fit_transform(adata_concat_envi.obs['celltype'])\n",
    "y = label_encoder.fit_transform(our_seq.obs['celltype'])\n",
    "\n",
    "# Number of neighbors\n",
    "k = 10\n",
    "\n",
    "# Initialize the KNeighborsClassifier\n",
    "knn = KNeighborsClassifier(n_neighbors=k) # default: euclidian\n",
    "\n",
    "# Fit the model (using the same data here for simplicity)\n",
    "knn.fit(X, y)\n",
    "\n",
    "# Find the k-neighbors for each sample\n",
    "distances, indices = knn.kneighbors(X)\n",
    "\n",
    "# Calculate the proportion of neighbors belonging to the same class for each sample\n",
    "proportions = []\n",
    "for i in range(len(X)):\n",
    "    # Get the labels of the k-neighbors\n",
    "    neighbor_labels = y[indices[i]]\n",
    "    # Calculate the proportion of neighbors with the same class as the sample\n",
    "    proportion = np.sum(neighbor_labels == y[i]) / k\n",
    "    proportions.append(proportion)\n",
    "\n",
    "# Print the results\n",
    "# for i, proportion in enumerate(proportions):\n",
    "#     print(f\"Sample {i} (Class {label_encoder.inverse_transform([y[i]])[0]}): {proportion * 100:.2f}% of neighbors belong to the same class\")"
   ]
  },
  {
   "cell_type": "code",
   "execution_count": null,
   "id": "27b35f3f-9d4c-45c4-98fe-08a095f1ccee",
   "metadata": {},
   "outputs": [],
   "source": [
    "our_seq.obs['KNN_10_fraction'] = proportions"
   ]
  },
  {
   "cell_type": "code",
   "execution_count": null,
   "id": "e0bd2b7f-7bf1-49c4-95d3-6b692fcac334",
   "metadata": {},
   "outputs": [],
   "source": [
    "our_seq.obs['KNN_10_fraction'].mean()"
   ]
  },
  {
   "cell_type": "code",
   "execution_count": null,
   "id": "1594087a-b269-4c11-a796-ac64f722f8a7",
   "metadata": {},
   "outputs": [],
   "source": [
    "our_seq.obs['celltype']"
   ]
  },
  {
   "cell_type": "code",
   "execution_count": null,
   "id": "c721d76d-248b-4351-879b-efcd385cc7b1",
   "metadata": {},
   "outputs": [],
   "source": [
    "df = our_seq.obs[['celltype', 'KNN_10_fraction']]\n",
    "# subset_df = df[df['celltype'].isin(common_celltype)]\n",
    "# subset_df = subset_df.reset_index(drop=True)\n",
    "# categories_to_remove = set(adata_concat_envi.obs[\"celltype\"]) - common_celltype\n",
    "# subset_df['celltype'] = subset_df['celltype'].cat.remove_categories(list(categories_to_remove))\n",
    "# #ground_truth = (adata_concat_envi.obs['celltype'].value_counts()/len(adata_concat_envi)).to_dict()\n",
    "\n",
    "fig, ax = plt.subplots(figsize=(10*centimeter, 3*centimeter))\n",
    "custom_palette = [\n",
    "    \"#E69F00\", \"#56B4E9\", \"#009E73\", \"#F0E442\", \n",
    "    \"#0072B2\", \"#D55E00\", \"#CC79A7\", \"#999999\", \n",
    "    \"#007500\", \"#1F77B4\", \"#FF7F0E\", \"#2CA02C\", \n",
    "    \"#D62728\", \"#9467BD\", \"#8C564B\", \"#E377C2\"\n",
    "]\n",
    "sns.boxplot(x='celltype', y='KNN_10_fraction', data=df, ax=ax, palette=_palette, dodge=False, width=0.5, showfliers=False)\n",
    "ax.set_xticklabels(ax.get_xticklabels(), rotation=30, ha='right')"
   ]
  },
  {
   "cell_type": "code",
   "execution_count": null,
   "id": "df36085b-379a-4dfe-96e0-470a90828cc4",
   "metadata": {
    "jupyter": {
     "source_hidden": true
    }
   },
   "outputs": [],
   "source": [
    "df.groupby([\"celltype\"]).mean().sort_values(by='KNN_10_fraction', ascending=False)"
   ]
  },
  {
   "cell_type": "markdown",
   "id": "69c221a3-74c0-4a1c-a3b1-af3dc4fa7954",
   "metadata": {},
   "source": [
    "### For every given cell, calculate the KNN spots that belong to the same cell-type as the cell"
   ]
  },
  {
   "cell_type": "code",
   "execution_count": null,
   "id": "d2746713-2c62-48bc-9f10-d2244235575c",
   "metadata": {},
   "outputs": [],
   "source": [
    "# our_spatial = anndata.read_loom(\"scSpace_ME_ST.loom\", var_names='var_names', obs_names=\"obs_names\")\n",
    "# our_seq = anndata.read_loom(\"scSpace_ME_SC.loom\", var_names='var_names', obs_names=\"obs_names\")"
   ]
  },
  {
   "cell_type": "code",
   "execution_count": null,
   "id": "e32caa29-9a00-4108-abd1-af583a4eebce",
   "metadata": {},
   "outputs": [],
   "source": [
    "our_spatial"
   ]
  },
  {
   "cell_type": "code",
   "execution_count": null,
   "id": "af05689d-a48b-4d87-94aa-4bffdaf30acb",
   "metadata": {},
   "outputs": [],
   "source": [
    "our_spatial.obsm['spatial']"
   ]
  },
  {
   "cell_type": "code",
   "execution_count": null,
   "id": "72f1d28b-4bb8-4fce-8580-ac7ddbe1926b",
   "metadata": {},
   "outputs": [],
   "source": [
    "# here we only select the shared common celltype for both scRNA-seq and ST\n",
    "common_celltype = set(our_spatial.obs[\"celltype_mapped_refined\"]).intersection(set(our_seq.obs[\"celltype\"]))\n",
    "\n",
    "obsm_spatial = np.concatenate([our_seq.obsm[\"spatial\"], our_spatial.obsm[\"infer_spatial\"]])\n",
    "adata_pos = anndata.AnnData(obsm_spatial)\n",
    "\n",
    "adata_pos.obs[\"celltype\"] = np.concatenate([our_seq.obs[\"celltype\"], our_spatial.obs[\"celltype_mapped_refined\"]])\n",
    "adata_pos.obs['celltype'] = pd.Categorical(adata_pos.obs['celltype'])\n",
    "adata_pos.obs[\"modal\"] = ([\"seq\"] * our_seq.shape[0]) + ([\"spatial\"] * our_spatial.shape[0])\n",
    "\n",
    "# Convert discrete labels to numerical labels\n",
    "label_encoder = LabelEncoder()\n",
    "#y = label_encoder.fit_transform(adata_concat_envi.obs['celltype'])\n",
    "y = label_encoder.fit_transform(adata_pos.obs['celltype'])\n",
    "\n",
    "adata_pos.obs[\"celltype_label\"] = y\n",
    "\n",
    "# Number of neighbors\n",
    "k = 10\n",
    "\n",
    "# Initialize the KNeighborsClassifier\n",
    "knn = KNeighborsClassifier(n_neighbors=k) # default: euclidian\n",
    "\n",
    "adata_pos_st = adata_pos[adata_pos.obs['modal']=='spatial',:]\n",
    "adata_pos_sc = adata_pos[adata_pos.obs['modal']=='seq',:]\n",
    "\n",
    "# Fit the model (using the same data here for simplicity)\n",
    "knn.fit(adata_pos_st.X, adata_pos_st.obs['celltype_label'])\n",
    "\n",
    "# Find the k-neighbors for every single cell in scRNA-seq\n",
    "distances, indices = knn.kneighbors(adata_pos_sc.X)\n",
    "\n",
    "# Calculate the proportion of neighbors in ST belonging to the same celltype for each cell\n",
    "proportions = []\n",
    "celltype_label_ST = adata_pos_st.obs[\"celltype_label\"]\n",
    "celltype_label_SC = adata_pos_sc.obs[\"celltype_label\"]\n",
    "\n",
    "for i in range(len(adata_pos_sc.X)):\n",
    "    # Get the labels of the k-neighbors\n",
    "    neighbor_labels = celltype_label_ST.iloc[indices[i]]\n",
    "    # Calculate the proportion of neighbors with the same class as the sample\n",
    "    proportion = np.sum(neighbor_labels == celltype_label_SC.iloc[i]) / k\n",
    "    proportions.append(proportion)\n",
    "\n",
    "adata_pos_sc.obs['KNN_10_fraction_inST'] = proportions\n",
    "#adata_pos_sc.obs['celltype'] = pd.Categorical(adata_pos_sc.obs['celltype'])"
   ]
  },
  {
   "cell_type": "code",
   "execution_count": null,
   "id": "1b42635b-d8e1-4dd4-9106-13c5d60ac689",
   "metadata": {},
   "outputs": [],
   "source": [
    "df = adata_pos_sc.obs[['celltype', 'KNN_10_fraction_inST']]\n",
    "subset_df = df[df['celltype'].isin(common_celltype)]\n",
    "subset_df = subset_df.reset_index(drop=True)\n",
    "categories_to_remove = set(adata_pos_sc.obs[\"celltype\"]) - common_celltype\n",
    "subset_df['celltype'] = subset_df['celltype'].cat.remove_categories(list(categories_to_remove))\n",
    "ground_truth = (adata_pos_st.obs['celltype'].value_counts()/len(adata_pos_st)).to_dict()\n",
    "\n",
    "fig, ax = plt.subplots(figsize=(10*centimeter, 3*centimeter))\n",
    "\n",
    "sns.boxplot(x='celltype', y='KNN_10_fraction_inST', data=subset_df, ax=ax, palette=_palette, dodge=False, width=0.5, showfliers=False)\n",
    "ax.set_xticklabels(ax.get_xticklabels(), rotation=30, ha='right')\n",
    "\n",
    "ordered_celltype = subset_df['celltype'].cat.categories.values\n",
    "\n",
    "for celltype in ordered_celltype:\n",
    "    ax.scatter([celltype], [ground_truth[celltype]], s=3, marker=\"^\", color=\"r\", zorder=3) #, edgecolors=\"black\""
   ]
  },
  {
   "cell_type": "code",
   "execution_count": null,
   "id": "7595fe6a-3e26-4baf-8551-b89e732bc5b9",
   "metadata": {},
   "outputs": [],
   "source": [
    "adata_pos_sc.obs['KNN_10_fraction_inST'].mean()"
   ]
  },
  {
   "cell_type": "code",
   "execution_count": null,
   "id": "4c060f3d-7c82-49aa-a0b1-5488c30d9678",
   "metadata": {},
   "outputs": [],
   "source": [
    "df.groupby([\"celltype\"]).mean().sort_values(by='KNN_10_fraction_inST', ascending=False)"
   ]
  },
  {
   "cell_type": "code",
   "execution_count": null,
   "id": "02e231b4-ffb6-4659-8666-3e2c37eb331d",
   "metadata": {},
   "outputs": [],
   "source": [
    "subset_df.groupby([\"celltype\"]).mean().sort_values(by='KNN_10_fraction_inST', ascending=False)"
   ]
  },
  {
   "cell_type": "code",
   "execution_count": null,
   "id": "187bf03c-509c-4b9f-84f7-8403c807bb6f",
   "metadata": {},
   "outputs": [],
   "source": []
  }
 ],
 "metadata": {
  "kernelspec": {
   "display_name": "scvi",
   "language": "python",
   "name": "python3"
  },
  "language_info": {
   "codemirror_mode": {
    "name": "ipython",
    "version": 3
   },
   "file_extension": ".py",
   "mimetype": "text/x-python",
   "name": "python",
   "nbconvert_exporter": "python",
   "pygments_lexer": "ipython3",
   "version": "3.9.18"
  }
 },
 "nbformat": 4,
 "nbformat_minor": 5
}
