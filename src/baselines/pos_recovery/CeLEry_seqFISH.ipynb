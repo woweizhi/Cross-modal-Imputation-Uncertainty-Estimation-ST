{
 "cells": [
  {
   "cell_type": "code",
   "execution_count": null,
   "id": "f91688ea-2bb7-41ec-8b10-ebe522774a3d",
   "metadata": {},
   "outputs": [],
   "source": [
    "import CeLEry as cel\n",
    "import scipy\n",
    "import pandas as pd\n",
    "import numpy as np\n",
    "import anndata\n",
    "import scanpy as sc\n",
    "from sklearn.model_selection import train_test_split"
   ]
  },
  {
   "cell_type": "code",
   "execution_count": null,
   "id": "fd2823b2-8b2c-42ff-8ba3-2ef541334c31",
   "metadata": {},
   "outputs": [],
   "source": [
    "root = \".\"\n",
    "data_id = \"embryo\"\n",
    "\n",
    "our_spatial = anndata.read_loom(f\"{root}/results/{data_id}/imputeFormer_ST_{data_id}.loom\", var_names='var_names', obs_names=\"obs_names\")\n",
    "our_seq = anndata.read_loom(f\"{root}/results/{data_id}/imputeFormer_SC_{data_id}.loom\", var_names='var_names', obs_names=\"obs_names\")"
   ]
  },
  {
   "cell_type": "code",
   "execution_count": null,
   "id": "bfb4c040-e956-4f68-a799-af388c94efb6",
   "metadata": {},
   "outputs": [],
   "source": [
    "our_spatial"
   ]
  },
  {
   "cell_type": "code",
   "execution_count": null,
   "id": "394330f1-3a4a-4aae-ae34-479f91cdcac7",
   "metadata": {},
   "outputs": [],
   "source": [
    "our_seq"
   ]
  },
  {
   "cell_type": "markdown",
   "id": "892e4a30-7ff3-4c65-9815-9075a82680fa",
   "metadata": {},
   "source": [
    "### Data preprocessing: log transform and z-score normalization for every gene"
   ]
  },
  {
   "cell_type": "code",
   "execution_count": null,
   "id": "f9af051d-671b-435a-9d05-8b4ba620a6cd",
   "metadata": {},
   "outputs": [],
   "source": [
    "sc.pp.log1p(our_spatial)\n",
    "sc.pp.log1p(our_seq)\n",
    "\n",
    "cel.get_zscore(our_spatial)\n",
    "cel.get_zscore(our_seq)"
   ]
  },
  {
   "cell_type": "code",
   "execution_count": null,
   "id": "93cec010-ff0a-485a-9fa4-e0268af5ae71",
   "metadata": {},
   "outputs": [],
   "source": [
    "train_st = our_spatial.copy()\n",
    "del train_st.obs \n",
    "train_st.obs[['x_cord', 'y_cord']]= our_spatial.obs[['array_row', 'array_col']]"
   ]
  },
  {
   "cell_type": "markdown",
   "id": "a8dcdcf2-7a12-4998-b430-35219306ebeb",
   "metadata": {},
   "source": [
    "### Model traning"
   ]
  },
  {
   "cell_type": "code",
   "execution_count": null,
   "id": "75f97060-3ec9-44ce-9f13-33975e20b493",
   "metadata": {
    "scrolled": true
   },
   "outputs": [],
   "source": [
    "model_train = cel.Fit_cord (data_train = train_st, hidden_dims = [30, 25, 15], num_epochs_max = 500, path = \"results/\", filename = \"seqFISH_CeLEry\")"
   ]
  },
  {
   "cell_type": "code",
   "execution_count": null,
   "id": "c30b4a75-51c4-4020-ad28-f926873287ef",
   "metadata": {},
   "outputs": [],
   "source": [
    "pred_cord_st = cel.Predict_cord (data_test = train_st, path = \"results/\", filename = \"seqFISH_CeLEry\")\n",
    "\n",
    "pred_cord_st"
   ]
  },
  {
   "cell_type": "code",
   "execution_count": null,
   "id": "03a88412-fb56-4130-97d9-453bb7964c6c",
   "metadata": {},
   "outputs": [],
   "source": [
    "pred_cord_sc = cel.Predict_cord (data_test = our_seq, path = \"results\", filename = \"seqFISH_CeLEry\")\n",
    "\n",
    "pred_cord_sc"
   ]
  },
  {
   "cell_type": "code",
   "execution_count": null,
   "id": "779a9675-018b-47c9-85db-c1b536150e7c",
   "metadata": {},
   "outputs": [],
   "source": [
    "our_seq.obsm['spatial'] = pred_cord_sc#[:,::-1]"
   ]
  },
  {
   "cell_type": "code",
   "execution_count": null,
   "id": "7de9c87e-a885-4016-b083-096ac327b087",
   "metadata": {},
   "outputs": [],
   "source": [
    "from matplotlib import cm, colors\n",
    "import seaborn as sns\n",
    "import matplotlib.pyplot as plt\n",
    "import matplotlib as mpl\n",
    "import matplotlib.font_manager # to solve: Font family ['sans-serif'] not found. Falling back to DejaVu Sans.\n",
    "import json\n",
    "\n",
    "centimeter = 1/2.54  # centimeter in inches\n",
    "\n",
    "# https://www.geeksforgeeks.org/react-js-blueprint-colors-qualitative-color-schemes/\n",
    "react_cols_10 = ['#147EB3','#29A634','#D1980B','#D33D17','#9D3F9D','#00A396','#DB2C6F','#8EB125','#946638','#7961DB']\n",
    "\n",
    "# http://tsitsul.in/blog/coloropt/\n",
    "norm_7 = ['#4053d3','#ddb310','#b51d14','#00beff','#fb49b0','#00b25d','#cacaca']\n",
    "norm_12 = ['#ebac23','#b80058','#008cf9','#006e00','#00bbad','#d163e6','#b24502',\n",
    "           '#ff9287','#5954d6','#00c6f8','#878500','#00a76c','#bdbdbd']\n",
    "\n",
    "def config_rc(dpi=300, font_size=6, lw=1.):\n",
    "    # matplotlib.rcParams.keys()\n",
    "    rc={\n",
    "        'font.size': font_size, \n",
    "        'axes.labelsize': font_size, \n",
    "        'axes.titlesize': font_size, \n",
    "        'xtick.labelsize': font_size, \n",
    "        'ytick.labelsize': font_size,\n",
    "        'figure.dpi':dpi,'axes.linewidth':lw,\n",
    "        'legend.markerscale': 0.8, \n",
    "        'legend.markerscale': 0.8, \n",
    "        'legend.loc': 'upper right',\n",
    "        'legend.borderpad':0.2,\n",
    "        'legend.columnspacing': 0.5,\n",
    "        'legend.labelspacing': 0.2,\n",
    "        'legend.handletextpad': 0.1,\n",
    "        'legend.borderaxespad': 0.1,\n",
    "        'legend.handleheight': 1.0,\n",
    "        'legend.handlelength': 1.0,\n",
    "    } # 'figure.figsize':(11.7/1.5,8.27/1.5)\n",
    "    \n",
    "    sns.set(style='ticks',rc=rc) \n",
    "    sns.set_context(\"paper\")\n",
    "\n",
    "    mpl.rcParams.update(rc)\n",
    "\n",
    "    mpl.rcParams['pdf.fonttype'] = 42\n",
    "    mpl.rcParams['ps.fonttype'] = 42\n",
    "\n",
    "    #mpl.rcParams['font.sans-serif'] = \"Arial\"\n",
    "    mpl.rcParams['font.family'] = \"sans-serif\"\n",
    "    mpl.rcParams['axes.unicode_minus']=False # negative minus sign\n",
    "\n",
    "_palette = {'Allantois': '#1CE6FF',\n",
    " 'Anterior somitic tissues': '#FF34FF',\n",
    " 'Blood progenitors': '#FF4A46',\n",
    " 'Cardiomyocytes': '#008941',\n",
    " 'Caudal Mesoderm': '#006FA6',\n",
    " 'Cranial mesoderm': '#A30059',\n",
    " 'Def. endoderm': '#FFDBE5',\n",
    " 'Dermomyotome': '#7A4900',\n",
    " 'Endothelium': '#0000A6',\n",
    " 'Erythroid': '#63FFAC',\n",
    " 'ExE endoderm': '#B79762',\n",
    " 'ExE mesoderm': '#004D43',\n",
    " 'Forebrain/Midbrain/Hindbrain': '#8FB0FF',\n",
    " 'Gut': '#997D87',\n",
    " 'Haematoendothelial progenitors': '#5A0007',\n",
    " 'Intermediate mesoderm': '#809693',\n",
    " 'Lateral plate mesoderm': '#6A3A4C',\n",
    " 'Low quality': '#1B4400',\n",
    " 'Mesenchyme': '#4FC601',\n",
    " 'NMP': '#3B5DFF',\n",
    " 'Neural crest': '#4A3B53',\n",
    " 'Notochord': '#FF2F80',\n",
    " 'PGC': '#61615A',\n",
    " 'Paraxial mesoderm': '#BA0900',\n",
    " 'Pharyngeal mesoderm': '#6B7900',\n",
    " 'Rostral neurectoderm': '#00C2A0',\n",
    " 'Sclerotome': '#FFAA92',\n",
    " 'Somitic mesoderm': '#FF90C9',\n",
    " 'Spinal cord': '#B903AA',\n",
    " 'Surface ectoderm': '#D16100',\n",
    " 'Visceral endoderm': '#DDEFFF'}\n",
    "\n",
    "config_rc(dpi=300, font_size=5)"
   ]
  },
  {
   "cell_type": "code",
   "execution_count": null,
   "id": "a7ae219e-7a7f-4cb2-a582-a79a02d6fa31",
   "metadata": {},
   "outputs": [],
   "source": [
    "sc_change = {'Blood progenitors 1': \"Blood progenitors\", 'Blood progenitors 2': \"Blood progenitors\", \n",
    "             'Erythroid1': 'Erythroid', 'Erythroid2':'Erythroid', 'Erythroid3': 'Erythroid' }\n",
    "our_seq.obs[\"celltype\"] = our_seq.obs[\"celltype\"].replace(sc_change)\n",
    "\n",
    "st_change = {'Presomitic mesoderm': \"Somitic mesoderm\", 'Splanchnic mesoderm': \"Pharyngeal mesoderm\", 'Definitive endoderm': 'Def. endoderm',\n",
    "            'Gut tube': \"Gut\", 'Mixed mesenchymal mesoderm': \"Mesenchyme\"}\n",
    "our_spatial.obs[\"celltype_mapped_refined\"] = our_spatial.obs[\"celltype_mapped_refined\"].replace(st_change)"
   ]
  },
  {
   "cell_type": "code",
   "execution_count": null,
   "id": "ceb920ea-a6e9-4473-922d-c3e32a24b25e",
   "metadata": {},
   "outputs": [],
   "source": [
    "our_spatial.obsm[\"raw_spatial\"] = our_spatial.obsm[\"spatial\"]\n",
    "our_spatial.obsm[\"spatial\"] = pred_cord_st\n",
    "sc.pl.spatial(our_spatial, color=\"celltype_mapped_refined\", palette=_palette, spot_size=0.01, legend_loc=None)"
   ]
  },
  {
   "cell_type": "code",
   "execution_count": null,
   "id": "c585f4f4-4288-48a8-b4f7-42f07aa2274d",
   "metadata": {},
   "outputs": [],
   "source": [
    "sc.pl.spatial(our_seq, color=\"celltype\", palette=_palette, spot_size=0.01, legend_loc=None)"
   ]
  },
  {
   "cell_type": "markdown",
   "id": "913f64f3-c810-4211-9dbf-a4bb378c6f6c",
   "metadata": {},
   "source": [
    "### Density map visualization"
   ]
  },
  {
   "cell_type": "code",
   "execution_count": null,
   "id": "fa438f34-25a6-4ccd-a50e-695325c779cc",
   "metadata": {},
   "outputs": [],
   "source": [
    "# convert the scaled coordinates into original scale and then calculate the pairwise distance\n",
    "xmax = np.max(our_spatial.obsm['spatial'][:,0])\n",
    "xmin = np.min(our_spatial.obsm['spatial'][:,0])\n",
    "ymax = np.max(our_spatial.obsm['spatial'][:,1])\n",
    "ymin = np.min(our_spatial.obsm['spatial'][:,1])\n",
    "\n",
    "pred_cord_st_copy = pred_cord_st.copy()\n",
    "\n",
    "pred_cord_st_copy[:,0] = pred_cord_st_copy[:,0]* (xmax - xmin) + xmin\n",
    "pred_cord_st_copy[:,1] = pred_cord_st_copy[:,1]* (ymax - ymin) + ymin\n",
    "\n",
    "pred_cord_sc_copy = pred_cord_sc.copy()\n",
    "\n",
    "pred_cord_sc_copy[:,0] = pred_cord_sc_copy[:,0]* (xmax - xmin) + xmin\n",
    "pred_cord_sc_copy[:,1] = pred_cord_sc_copy[:,1]* (ymax - ymin) + ymin"
   ]
  },
  {
   "cell_type": "code",
   "execution_count": null,
   "id": "e013b8ba-d69d-4a45-8843-b67a0526a431",
   "metadata": {},
   "outputs": [],
   "source": [
    "our_spatial.obsm[\"infer_spatial\"] = pred_cord_st\n",
    "our_spatial.obsm[\"scale_infer_spatial\"] = pred_cord_st_copy\n",
    "\n",
    "our_seq.obsm[\"infer_spatial\"] = pred_cord_sc\n",
    "our_seq.obsm[\"scale_infer_spatial\"] = pred_cord_sc_copy"
   ]
  },
  {
   "cell_type": "code",
   "execution_count": null,
   "id": "5689593a-d5d6-45e1-873f-712e3bcf378e",
   "metadata": {},
   "outputs": [],
   "source": [
    "our_seq.obsm['spatial'] = pred_cord_sc_copy"
   ]
  },
  {
   "cell_type": "code",
   "execution_count": null,
   "id": "2670a4ff-5e05-4c10-91ba-e2fd04eb289f",
   "metadata": {},
   "outputs": [],
   "source": [
    "from sklearn.neighbors import KNeighborsClassifier\n",
    "from sklearn.preprocessing import LabelEncoder\n",
    "from sklearn.datasets import make_classification\n",
    "\n",
    "X = our_seq.obsm[\"spatial\"]\n",
    "\n",
    "# Convert discrete labels to numerical labels\n",
    "label_encoder = LabelEncoder()\n",
    "#y = label_encoder.fit_transform(adata_concat_envi.obs['celltype'])\n",
    "y = label_encoder.fit_transform(our_seq.obs['celltype'])\n",
    "\n",
    "# Number of neighbors\n",
    "k = 10\n",
    "\n",
    "# Initialize the KNeighborsClassifier\n",
    "knn = KNeighborsClassifier(n_neighbors=k) # default: euclidian\n",
    "\n",
    "# Fit the model (using the same data here for simplicity)\n",
    "knn.fit(X, y)\n",
    "\n",
    "# Find the k-neighbors for each sample\n",
    "distances, indices = knn.kneighbors(X)\n",
    "\n",
    "# Calculate the proportion of neighbors belonging to the same class for each sample\n",
    "proportions = []\n",
    "for i in range(len(X)):\n",
    "    # Get the labels of the k-neighbors\n",
    "    neighbor_labels = y[indices[i]]\n",
    "    # Calculate the proportion of neighbors with the same class as the sample\n",
    "    proportion = np.sum(neighbor_labels == y[i]) / k\n",
    "    proportions.append(proportion)\n",
    "\n",
    "# Print the results\n",
    "# for i, proportion in enumerate(proportions):\n",
    "#     print(f\"Sample {i} (Class {label_encoder.inverse_transform([y[i]])[0]}): {proportion * 100:.2f}% of neighbors belong to the same class\")"
   ]
  },
  {
   "cell_type": "code",
   "execution_count": null,
   "id": "27b35f3f-9d4c-45c4-98fe-08a095f1ccee",
   "metadata": {},
   "outputs": [],
   "source": [
    "our_seq.obs['KNN_10_fraction'] = proportions"
   ]
  },
  {
   "cell_type": "code",
   "execution_count": null,
   "id": "e0bd2b7f-7bf1-49c4-95d3-6b692fcac334",
   "metadata": {},
   "outputs": [],
   "source": [
    "our_seq.obs['KNN_10_fraction'].mean()"
   ]
  },
  {
   "cell_type": "code",
   "execution_count": null,
   "id": "25900ffd-05b8-48fc-a08b-8d051eba104d",
   "metadata": {},
   "outputs": [],
   "source": [
    "our_seq.obs['celltype'] = pd.Categorical(our_seq.obs['celltype'])"
   ]
  },
  {
   "cell_type": "code",
   "execution_count": null,
   "id": "c721d76d-248b-4351-879b-efcd385cc7b1",
   "metadata": {},
   "outputs": [],
   "source": [
    "df = our_seq.obs[['celltype', 'KNN_10_fraction']]\n",
    "# subset_df = df[df['celltype'].isin(common_celltype)]\n",
    "# subset_df = subset_df.reset_index(drop=True)\n",
    "# categories_to_remove = set(adata_concat_envi.obs[\"celltype\"]) - common_celltype\n",
    "# subset_df['celltype'] = subset_df['celltype'].cat.remove_categories(list(categories_to_remove))\n",
    "# #ground_truth = (adata_concat_envi.obs['celltype'].value_counts()/len(adata_concat_envi)).to_dict()\n",
    "\n",
    "fig, ax = plt.subplots(figsize=(10*centimeter, 3*centimeter))\n",
    "custom_palette = [\n",
    "    \"#E69F00\", \"#56B4E9\", \"#009E73\", \"#F0E442\", \n",
    "    \"#0072B2\", \"#D55E00\", \"#CC79A7\", \"#999999\", \n",
    "    \"#007500\", \"#1F77B4\", \"#FF7F0E\", \"#2CA02C\", \n",
    "    \"#D62728\", \"#9467BD\", \"#8C564B\", \"#E377C2\"\n",
    "]\n",
    "sns.boxplot(x='celltype', y='KNN_10_fraction', data=df, ax=ax, palette=_palette, dodge=False, width=0.5, showfliers=False)\n",
    "ax.set_xticklabels(ax.get_xticklabels(), rotation=30, ha='right')"
   ]
  },
  {
   "cell_type": "code",
   "execution_count": null,
   "id": "df36085b-379a-4dfe-96e0-470a90828cc4",
   "metadata": {},
   "outputs": [],
   "source": [
    "df.groupby([\"celltype\"]).mean().sort_values(by='KNN_10_fraction', ascending=False)"
   ]
  },
  {
   "cell_type": "markdown",
   "id": "d0ae6dcb-a028-48a9-8a24-c65ddf6b483d",
   "metadata": {},
   "source": [
    "### For every given cell, calculate the KNN spots that belong to the same cell-type as the cell"
   ]
  },
  {
   "cell_type": "code",
   "execution_count": null,
   "id": "a998a46b-b4bd-402e-891b-1887a1145822",
   "metadata": {},
   "outputs": [],
   "source": [
    "our_spatial = sc.read_h5ad(\"CeLEry_ME_ST.h5ad\")\n",
    "our_seq = sc.read_h5ad(\"CeLEry_ME_SC.h5ad\")"
   ]
  },
  {
   "cell_type": "code",
   "execution_count": null,
   "id": "b3ef9d71-b5d4-43e9-b2af-f3e8d1f0af97",
   "metadata": {},
   "outputs": [],
   "source": [
    "our_spatial"
   ]
  },
  {
   "cell_type": "code",
   "execution_count": null,
   "id": "666ab6aa-258b-4415-8fce-93a86f6155ad",
   "metadata": {},
   "outputs": [],
   "source": [
    "our_seq"
   ]
  },
  {
   "cell_type": "code",
   "execution_count": null,
   "id": "e473324e-61ca-4694-86fd-af4eba70b39f",
   "metadata": {},
   "outputs": [],
   "source": [
    "our_spatial.obsm[\"scale_infer_spatial\"]"
   ]
  },
  {
   "cell_type": "code",
   "execution_count": null,
   "id": "d5bf26a1-5022-4040-bea8-67eb047ba230",
   "metadata": {},
   "outputs": [],
   "source": [
    "from sklearn.neighbors import KNeighborsClassifier\n",
    "from sklearn.preprocessing import LabelEncoder\n",
    "from sklearn.datasets import make_classification\n",
    "\n",
    "# here we only select the shared common celltype for both scRNA-seq and ST\n",
    "common_celltype = set(our_spatial.obs[\"celltype_mapped_refined\"]).intersection(set(our_seq.obs[\"celltype\"]))\n",
    "\n",
    "obsm_spatial = np.concatenate([our_seq.obsm[\"spatial\"], our_spatial.obsm[\"scale_infer_spatial\"]])\n",
    "adata_pos = anndata.AnnData(obsm_spatial)\n",
    "\n",
    "adata_pos.obs[\"celltype\"] = np.concatenate([our_seq.obs[\"celltype\"], our_spatial.obs[\"celltype_mapped_refined\"]])\n",
    "adata_pos.obs['celltype'] = pd.Categorical(adata_pos.obs['celltype'])\n",
    "adata_pos.obs[\"modal\"] = ([\"seq\"] * our_seq.shape[0]) + ([\"spatial\"] * our_spatial.shape[0])\n",
    "\n",
    "# Convert discrete labels to numerical labels\n",
    "label_encoder = LabelEncoder()\n",
    "#y = label_encoder.fit_transform(adata_concat_envi.obs['celltype'])\n",
    "y = label_encoder.fit_transform(adata_pos.obs['celltype'])\n",
    "\n",
    "adata_pos.obs[\"celltype_label\"] = y\n",
    "\n",
    "# Number of neighbors\n",
    "k = 10\n",
    "\n",
    "# Initialize the KNeighborsClassifier\n",
    "knn = KNeighborsClassifier(n_neighbors=k) # default: euclidian\n",
    "\n",
    "adata_pos_st = adata_pos[adata_pos.obs['modal']=='spatial',:]\n",
    "adata_pos_sc = adata_pos[adata_pos.obs['modal']=='seq',:]\n",
    "\n",
    "# Fit the model (using the same data here for simplicity)\n",
    "knn.fit(adata_pos_st.X, adata_pos_st.obs['celltype_label'])\n",
    "\n",
    "# Find the k-neighbors for every single cell in scRNA-seq\n",
    "distances, indices = knn.kneighbors(adata_pos_sc.X)\n",
    "\n",
    "# Calculate the proportion of neighbors in ST belonging to the same celltype for each cell\n",
    "proportions = []\n",
    "celltype_label_ST = adata_pos_st.obs[\"celltype_label\"]\n",
    "celltype_label_SC = adata_pos_sc.obs[\"celltype_label\"]\n",
    "\n",
    "for i in range(len(adata_pos_sc.X)):\n",
    "    # Get the labels of the k-neighbors\n",
    "    neighbor_labels = celltype_label_ST.iloc[indices[i]]\n",
    "    # Calculate the proportion of neighbors with the same class as the sample\n",
    "    proportion = np.sum(neighbor_labels == celltype_label_SC.iloc[i]) / k\n",
    "    proportions.append(proportion)\n",
    "\n",
    "adata_pos_sc.obs['KNN_10_fraction_inST'] = proportions\n",
    "#adata_pos_sc.obs['celltype'] = pd.Categorical(adata_pos_sc.obs['celltype'])"
   ]
  },
  {
   "cell_type": "code",
   "execution_count": null,
   "id": "5cd0bfc5-34cb-4116-8e67-4a3f1a6981b6",
   "metadata": {},
   "outputs": [],
   "source": [
    "df = adata_pos_sc.obs[['celltype', 'KNN_10_fraction_inST']]\n",
    "subset_df = df[df['celltype'].isin(common_celltype)]\n",
    "subset_df = subset_df.reset_index(drop=True)\n",
    "categories_to_remove = set(adata_pos_sc.obs[\"celltype\"]) - common_celltype\n",
    "subset_df['celltype'] = subset_df['celltype'].cat.remove_categories(list(categories_to_remove))\n",
    "ground_truth = (adata_pos_st.obs['celltype'].value_counts()/len(adata_pos_st)).to_dict()\n",
    "\n",
    "fig, ax = plt.subplots(figsize=(10*centimeter, 3*centimeter))\n",
    "\n",
    "sns.boxplot(x='celltype', y='KNN_10_fraction_inST', data=subset_df, ax=ax, palette=_palette, dodge=False, width=0.5, showfliers=False)\n",
    "ax.set_xticklabels(ax.get_xticklabels(), rotation=30, ha='right')\n",
    "\n",
    "ordered_celltype = subset_df['celltype'].cat.categories.values\n",
    "\n",
    "for celltype in ordered_celltype:\n",
    "    ax.scatter([celltype], [ground_truth[celltype]], s=3, marker=\"^\", color=\"r\", zorder=3) #, edgecolors=\"black\""
   ]
  },
  {
   "cell_type": "code",
   "execution_count": null,
   "id": "19830069-a8da-4650-a45a-74b7230e1f8b",
   "metadata": {},
   "outputs": [],
   "source": [
    "ground_truth['Endothelium']"
   ]
  },
  {
   "cell_type": "code",
   "execution_count": null,
   "id": "bc5ce067-1149-4063-9665-844de6685b17",
   "metadata": {},
   "outputs": [],
   "source": [
    "ordered_celltype"
   ]
  },
  {
   "cell_type": "code",
   "execution_count": null,
   "id": "e5af1562-5c29-423b-910c-55cc5f04116b",
   "metadata": {},
   "outputs": [],
   "source": [
    "ground_truth"
   ]
  },
  {
   "cell_type": "code",
   "execution_count": null,
   "id": "04a4ff61-e64e-4821-bb5b-9c810882b5f4",
   "metadata": {},
   "outputs": [],
   "source": [
    "adata_pos_sc.obs['KNN_10_fraction_inST'].mean()"
   ]
  },
  {
   "cell_type": "code",
   "execution_count": null,
   "id": "93990e4b-3f0e-4dbc-9f00-a7a54c0944be",
   "metadata": {},
   "outputs": [],
   "source": [
    "df.groupby([\"celltype\"]).mean().sort_values(by='KNN_10_fraction_inST', ascending=False)"
   ]
  },
  {
   "cell_type": "code",
   "execution_count": null,
   "id": "5ad3c26a-af33-485f-bed9-7419b41fe7a7",
   "metadata": {},
   "outputs": [],
   "source": [
    "subset_df.groupby([\"celltype\"]).mean().sort_values(by='KNN_10_fraction_inST', ascending=False)"
   ]
  },
  {
   "cell_type": "code",
   "execution_count": null,
   "id": "bfd0b574-6de0-4124-ac64-388261fe6304",
   "metadata": {},
   "outputs": [],
   "source": []
  }
 ],
 "metadata": {
  "kernelspec": {
   "display_name": "tissue",
   "language": "python",
   "name": "tissue"
  },
  "language_info": {
   "codemirror_mode": {
    "name": "ipython",
    "version": 3
   },
   "file_extension": ".py",
   "mimetype": "text/x-python",
   "name": "python",
   "nbconvert_exporter": "python",
   "pygments_lexer": "ipython3",
   "version": "3.8.18"
  }
 },
 "nbformat": 4,
 "nbformat_minor": 5
}
