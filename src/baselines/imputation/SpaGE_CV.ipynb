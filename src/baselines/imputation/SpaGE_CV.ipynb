{
 "cells": [
  {
   "cell_type": "code",
   "execution_count": null,
   "id": "79d7116a",
   "metadata": {},
   "outputs": [],
   "source": [
    "import anndata\n",
    "import matplotlib.pyplot as plt\n",
    "import numpy as np\n",
    "import pandas as pd\n",
    "import scanpy\n",
    "import scvi\n",
    "from scipy.stats import spearmanr\n",
    "from scvi.data import cortex, smfish\n",
    "from scvi.external import GIMVI\n",
    "import os\n",
    "import time\n",
    "import random\n",
    "import scanpy as sc\n",
    "\n",
    "import torch\n",
    "import anndata as ad\n",
    "\n",
    "import numpy as np\n",
    "import pandas as pd\n",
    "import loompy\n",
    "import matplotlib.pyplot as plt\n",
    "import scipy.stats as st\n",
    "from SpaGE.main import SpaGE\n",
    "import warnings\n",
    "warnings.filterwarnings('ignore')"
   ]
  },
  {
   "cell_type": "code",
   "execution_count": 3,
   "id": "b906e286-d56e-408a-a0cf-f07aa6d53a43",
   "metadata": {},
   "outputs": [],
   "source": [
    "# load the dataset\n",
    "data_root = \"./data/embyo_E8.5\"\n",
    "\n",
    "seq_data = sc.read_h5ad(f\"{data_root}_sc.h5ad\")\n",
    "spatial_data = sc.read_h5ad(f\"{data_root}_st.h5ad\")\n",
    "\n",
    "spatial_data.var_names = [x.lower() for x in spatial_data.var_names]\n",
    "seq_data.var_names = [x.lower() for x in seq_data.var_names]\n",
    "\n",
    "spatial_data.var_names_make_unique()\n",
    "seq_data.var_names_make_unique()\n",
    "\n",
    "sc.pp.calculate_qc_metrics(seq_data, percent_top=None, log1p=False, inplace=True)\n",
    "mt_genes = seq_data.var_names.str.startswith(\"mt-\")\n",
    "seq_data = seq_data[seq_data.obs[\"total_counts\"] <= 33000, ~mt_genes].copy()\n",
    "sc.pp.filter_genes(seq_data, min_cells=int(0.01*seq_data.shape[0]))\n",
    "seq_data.X = seq_data.X.toarray()\n",
    "\n",
    "sc.pp.calculate_qc_metrics(spatial_data, percent_top=None, log1p=False, inplace=True)\n",
    "spatial_data = spatial_data[spatial_data.obs[\"total_counts\"] <= 600, :].copy()\n",
    "\n",
    "# subset spatial data into shared genes\n",
    "gene_names = np.intersect1d(spatial_data.var_names, seq_data.var_names)\n",
    "\n",
    "# copy for calculating kendall tau cor\n",
    "seq_data_ori = seq_data[:, gene_names].copy()\n",
    "spatial_data_ori = spatial_data[:, gene_names].copy()\n",
    "\n",
    "scanpy.pp.normalize_total(spatial_data)\n",
    "scanpy.pp.log1p(spatial_data)\n",
    "\n",
    "scanpy.pp.normalize_total(seq_data)\n",
    "scanpy.pp.log1p(seq_data)"
   ]
  },
  {
   "cell_type": "markdown",
   "id": "c4e780ad-30f2-4810-ad2f-f8e55c0e536b",
   "metadata": {},
   "source": [
    "## Cross validation util fun"
   ]
  },
  {
   "cell_type": "code",
   "execution_count": 6,
   "id": "da16727b-01b9-4d63-af4c-c8e5c009c045",
   "metadata": {},
   "outputs": [],
   "source": [
    "from tqdm import tqdm\n",
    "from sklearn.model_selection import LeaveOneOut\n",
    "from sklearn.model_selection import KFold\n",
    "\n",
    "def cv_data_gen(genelist, cv_mode=\"CV\", kfold=5):\n",
    "    \"\"\" Generates pair of training/test gene indexes cross validation datasets\n",
    "\n",
    "    Args:\n",
    "        genelist (list): list of all shared genes by adata_sc and adata_sp\n",
    "        mode (str): Optional. support 'loo' and '10fold'. Default is 'loo'.\n",
    "\n",
    "    Yields:\n",
    "        tuple: list of train_genes, list of test_genes\n",
    "    \"\"\"\n",
    "\n",
    "    #genes_array = np.array(adata_sp.uns[\"training_genes\"])\n",
    "    genes_array = np.array(genelist)\n",
    "\n",
    "    if cv_mode == \"loo\":\n",
    "        cv = LeaveOneOut()\n",
    "    elif cv_mode == \"CV\":\n",
    "        cv = KFold(n_splits=kfold)\n",
    "\n",
    "    for train_idx, test_idx in cv.split(genes_array):\n",
    "        train_genes = list(genes_array[train_idx])\n",
    "        test_genes = list(genes_array[test_idx])\n",
    "        yield train_genes, test_genes"
   ]
  },
  {
   "cell_type": "markdown",
   "id": "282d8d61-8451-4325-aa7e-6955b417fe6e",
   "metadata": {},
   "source": [
    "## Preparing the data and run the model"
   ]
  },
  {
   "cell_type": "code",
   "execution_count": 7,
   "id": "4832a1d0-cd83-44aa-bc0e-67768e7bbeba",
   "metadata": {
    "scrolled": true
   },
   "outputs": [
    {
     "name": "stderr",
     "output_type": "stream",
     "text": [
      "100%|██████████| 5/5 [00:30<00:00,  6.12s/it]"
     ]
    },
    {
     "name": "stdout",
     "output_type": "stream",
     "text": [
      "Time eplase is: 30.69905734062195\n"
     ]
    },
    {
     "name": "stderr",
     "output_type": "stream",
     "text": [
      "\n"
     ]
    }
   ],
   "source": [
    "start = time.time()\n",
    "\n",
    "# only use genes in both datasets\n",
    "seq_data = seq_data[:, gene_names].copy()\n",
    "spatial_data = spatial_data[:, gene_names].copy()\n",
    "\n",
    "seq_gene_names = seq_data.var_names\n",
    "n_genes = seq_data.n_vars\n",
    "\n",
    "# randomly permute all the shared genes\n",
    "np.random.seed(seed=0)\n",
    "rand_gene_idx = np.random.choice(range(n_genes), n_genes, replace=False)\n",
    "\n",
    "test_gene_list = []\n",
    "test_df_list = []\n",
    "\n",
    "n_fold = 5\n",
    "\n",
    "for train_genes, test_genes in tqdm(\n",
    "    cv_data_gen(rand_gene_idx, cv_mode=\"CV\"), total=n_fold\n",
    "):\n",
    "\n",
    "    # spatial_data_partial has a subset of the genes to train on\n",
    "    spatial_data_partial = spatial_data[:, gene_names[train_genes]].copy()\n",
    "\n",
    "    # create our model\n",
    "\n",
    "    ST = pd.DataFrame(spatial_data_partial.X, columns=spatial_data_partial.var_names)\n",
    "    SC = pd.DataFrame(seq_data.X, columns=seq_data.var_names)\n",
    "\n",
    "    Imp_Genes = SpaGE(ST,SC,n_pv=30,\n",
    "                        genes_to_predict = gene_names[test_genes])\n",
    "   \n",
    "    test_df_list.append(Imp_Genes)\n",
    "\n",
    "    test_gene_list.append(test_genes)\n",
    "\n",
    "end = time.time()\n",
    "print(\"Time eplase is:\", (end - start))"
   ]
  },
  {
   "cell_type": "code",
   "execution_count": 17,
   "id": "3eaa5fcc-5bd3-46d8-9065-41283df21fa1",
   "metadata": {},
   "outputs": [
    {
     "data": {
      "text/plain": [
       "Pearson       0.254945\n",
       "Spearman      0.178627\n",
       "Kendalltou    0.145114\n",
       "RMSE          1.181270\n",
       "dtype: float64"
      ]
     },
     "execution_count": 17,
     "metadata": {},
     "output_type": "execute_result"
    }
   ],
   "source": [
    "from sklearn.metrics import mean_squared_error\n",
    "from scipy import stats\n",
    "\n",
    "pearson = []\n",
    "spearman = []\n",
    "kendalltau = []\n",
    "RMSE = []\n",
    "    \n",
    "\n",
    "for gene in gene_names:\n",
    "    v1 = spatial_data_ori[:,gene].X\n",
    "    v2 = test_gene_df[gene]\n",
    "    personR = stats.pearsonr(v1.reshape(-1), v2)\n",
    "    spearmanR = stats.spearmanr(v1.reshape(-1), v2)\n",
    "    kentou = stats.kendalltau(v1.reshape(-1), v2)\n",
    "    rmse = mean_squared_error(v1, v2, squared=False)\n",
    "\n",
    "    pearson.append(personR[0])\n",
    "    spearman.append(spearmanR[0])\n",
    "    kendalltau.append(kentou.statistic)\n",
    "    RMSE.append(rmse)\n",
    "\n",
    "# norm_raw = stats.zscore(adata.X, axis=0)\n",
    "# norm_imputed = stats.zscore(adata_ge_cv.X, axis=0)\n",
    "\n",
    "# norm_rmse = []\n",
    "# for v1, v2 in zip(norm_raw.T, norm_imputed.T):\n",
    "#     rmse = mean_squared_error(v1, v2, squared=False)\n",
    "#     norm_rmse.append(rmse)\n",
    "\n",
    "df_sc = pd.DataFrame({\"Pearson\": pearson, \"Spearman\": spearman, \"Kendalltou\":kendalltau, \"RMSE\":RMSE})\n",
    "df_sc.mean()"
   ]
  },
  {
   "cell_type": "code",
   "execution_count": 18,
   "id": "61a2d3e4",
   "metadata": {},
   "outputs": [],
   "source": [
    "spatial_data_ori = spatial_data_ori[:,test_gene_ind].copy()\n",
    "\n",
    "spatial_data_ori.obsm[\"imputed\"] = np.array(test_gene_df)\n",
    "\n",
    "spatial_data_ori.var[\"Pearson\"] = pearson\n",
    "spatial_data_ori.var[\"Spearman\"] = spearman\n",
    "spatial_data_ori.var[\"Kendall_tau\"] = kendalltau\n",
    "spatial_data_ori.var[\"RMSE\"] = RMSE"
   ]
  },
  {
   "cell_type": "code",
   "execution_count": 19,
   "id": "8098f030",
   "metadata": {},
   "outputs": [],
   "source": [
    "spatial_data_ori.write_h5ad(\"SpaGE_embryo_5fold.h5ad\", compression=True)"
   ]
  }
 ],
 "metadata": {
  "kernelspec": {
   "display_name": "scvi",
   "language": "python",
   "name": "python3"
  },
  "language_info": {
   "codemirror_mode": {
    "name": "ipython",
    "version": 3
   },
   "file_extension": ".py",
   "mimetype": "text/x-python",
   "name": "python",
   "nbconvert_exporter": "python",
   "pygments_lexer": "ipython3",
   "version": "3.9.18"
  }
 },
 "nbformat": 4,
 "nbformat_minor": 5
}
