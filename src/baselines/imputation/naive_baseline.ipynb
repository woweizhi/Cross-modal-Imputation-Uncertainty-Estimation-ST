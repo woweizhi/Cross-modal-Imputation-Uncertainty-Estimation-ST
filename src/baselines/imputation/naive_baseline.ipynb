{
 "cells": [
  {
   "cell_type": "code",
   "execution_count": null,
   "id": "2fda6043-50ea-49b7-bc0d-8d47c067aab7",
   "metadata": {},
   "outputs": [],
   "source": [
    "import scvi\n",
    "\n",
    "import sys\n",
    "import warnings\n",
    "warnings.filterwarnings('ignore')\n",
    "\n",
    "from itertools import cycle, product\n",
    "from scipy import stats\n",
    "\n",
    "import multiprocessing"
   ]
  },
  {
   "cell_type": "code",
   "execution_count": null,
   "id": "be8ec7c3-bcc1-41b3-a13d-58f6298782f4",
   "metadata": {},
   "outputs": [],
   "source": [
    "sys.path.append(\"../\")\n",
    "\n",
    "import data_processing\n",
    "\n",
    "import numpy as np\n",
    "import pandas as pd\n",
    "\n",
    "from scipy import stats\n",
    "import scanpy as sc\n",
    "import copy\n",
    "import matplotlib.pyplot as plt\n",
    "import time\n",
    "import os\n",
    "from anndata import AnnData\n",
    "import anndata as ad"
   ]
  },
  {
   "cell_type": "code",
   "execution_count": null,
   "id": "06423efc-9a75-4651-81ed-2f7cc2711347",
   "metadata": {},
   "outputs": [],
   "source": [
    "# load the data after filtering our low quality genes and cells/spots\n",
    "data_id = \"ctx_hipp_hvg\"\n",
    "\n",
    "data_root = os.path.join(\"data\", data_id)\n",
    "seq_data = sc.read_h5ad(f\"{data_root}_sc.h5ad\")\n",
    "spatial_data = sc.read_h5ad(f\"{data_root}_st.h5ad\")\n",
    "\n",
    "spatial_data.var_names = [x.lower() for x in spatial_data.var_names]\n",
    "seq_data.var_names = [x.lower() for x in seq_data.var_names]\n",
    "\n",
    "spatial_data.var_names_make_unique()\n",
    "seq_data.var_names_make_unique()\n",
    "\n",
    "# subset spatial data into shared genes\n",
    "gene_names = np.intersect1d(spatial_data.var_names, seq_data.var_names)\n",
    "\n",
    "# only use genes in both datasets\n",
    "seq_data = seq_data[:, gene_names].copy()\n",
    "spatial_data = spatial_data[:, gene_names].copy()"
   ]
  },
  {
   "cell_type": "code",
   "execution_count": null,
   "id": "81db510b-5a12-4deb-bbf0-bdd5aaec1b93",
   "metadata": {},
   "outputs": [],
   "source": [
    "def get_kendall_tau(tuple):\n",
    "    x,y = tuple\n",
    "    res = stats.kendalltau(x,y)\n",
    "    return res.statistic\n",
    "\n",
    "def calculate_kendall_tau(adata1, adata2, gene_names):\n",
    "    mat1 = adata1[:,gene_names].X\n",
    "    mat2 = adata2[:, gene_names].X\n",
    "\n",
    "    # Get all combinations of two matrix columns\n",
    "    combinations = list(product(mat1, mat2))\n",
    "    pool = multiprocessing.Pool() #the cores equal to the number of cores of the machine\n",
    "\n",
    "    res = pool.map(get_kendall_tau, combinations)\n",
    "\n",
    "    return res\n",
    "    \n",
    "from tqdm import tqdm\n",
    "from sklearn.model_selection import LeaveOneOut\n",
    "from sklearn.model_selection import KFold\n",
    "\n",
    "def cv_data_gen(genelist, cv_mode=\"CV\", kfold=10):\n",
    "    \"\"\" Generates pair of training/test gene indexes cross validation datasets\n",
    "\n",
    "    Args:\n",
    "        genelist (list): list of all shared genes by adata_sc and adata_sp\n",
    "        mode (str): Optional. support 'loo' and '10fold'. Default is 'loo'.\n",
    "\n",
    "    Yields:\n",
    "        tuple: list of train_genes, list of test_genes\n",
    "    \"\"\"\n",
    "\n",
    "    #genes_array = np.array(adata_sp.uns[\"training_genes\"])\n",
    "    genes_array = np.array(genelist)\n",
    "\n",
    "    if cv_mode == \"loo\":\n",
    "        cv = LeaveOneOut()\n",
    "    elif cv_mode == \"CV\":\n",
    "        cv = KFold(n_splits=kfold)\n",
    "\n",
    "    for train_idx, test_idx in cv.split(genes_array):\n",
    "        train_genes = list(genes_array[train_idx])\n",
    "        test_genes = list(genes_array[test_idx])\n",
    "        yield train_genes, test_genes"
   ]
  },
  {
   "cell_type": "code",
   "execution_count": null,
   "id": "7b928379-5e6b-478f-8b90-1197f514cf62",
   "metadata": {},
   "outputs": [],
   "source": [
    "seq_data.X.shape"
   ]
  },
  {
   "cell_type": "code",
   "execution_count": null,
   "id": "70aee8f6-b8f6-422e-b5b6-e8fbf72653e7",
   "metadata": {},
   "outputs": [],
   "source": [
    "spatial_data.X.shape"
   ]
  },
  {
   "cell_type": "code",
   "execution_count": null,
   "id": "5a00609f-4111-4a25-a861-ef1625955241",
   "metadata": {},
   "outputs": [],
   "source": [
    "def process_data(adata):\n",
    "    # get the total counts per cell/spot\n",
    "    sc.pp.calculate_qc_metrics(adata, percent_top=None, log1p=False, inplace=True)\n",
    "    # the library size factor is defined as the total counts per cell/spot divided by the median total counts of all the cells. in order to keep all the cells/spots having the same number of counts\n",
    "    adata.obs[\"size_factor\"] = adata.obs[\"total_counts\"] / np.median(adata.obs[\"total_counts\"])\n",
    "    #adata.obs[\"size_factor\"] = adata.obs[\"total_counts\"] / 10000\n",
    "    adata.layers[\"raw_counts\"] = adata.X\n",
    "    adata.X = np.matmul(np.linalg.inv(np.diag(adata.obs[\"size_factor\"])), adata.X)\n",
    "\n",
    "    # log and calculate the z-score of the counts\n",
    "    sc.pp.log1p(adata)\n",
    "    sc.pp.scale(adata)"
   ]
  },
  {
   "cell_type": "code",
   "execution_count": null,
   "id": "a79c39d2-4a93-4cb7-819e-8cfa3e73d5be",
   "metadata": {},
   "outputs": [],
   "source": [
    "process_data(seq_data)\n",
    "process_data(spatial_data)"
   ]
  },
  {
   "cell_type": "code",
   "execution_count": null,
   "id": "08485dd8-96ba-4e0c-8d16-11ebc13197d4",
   "metadata": {},
   "outputs": [],
   "source": [
    "# only use genes in both datasets\n",
    "seq_data = seq_data[:, gene_names].copy()\n",
    "spatial_data = spatial_data[:, gene_names].copy()\n",
    "\n",
    "seq_gene_names = seq_data.var_names\n",
    "n_genes = seq_data.n_vars\n",
    "\n",
    "# randomly permute all the shared genes\n",
    "np.random.seed(seed=0)\n",
    "rand_gene_idx = np.random.choice(range(n_genes), n_genes, replace=False)\n",
    "\n",
    "fold=5\n",
    "topK = 50\n",
    "\n",
    "test_gene_list = []\n",
    "ST_imputed = []\n",
    "\n",
    "for train_genes, test_genes in tqdm(\n",
    "    cv_data_gen(rand_gene_idx, kfold=fold), total=fold\n",
    "):\n",
    "\n",
    "    corr_sc_st = np.corrcoef(seq_data[:, train_genes].X, spatial_data[:, train_genes].X, rowvar=True)\n",
    "    corr_cross = corr_sc_st[:seq_data.shape[0], seq_data.shape[0]:]\n",
    "    # kendall_tau = calculate_kendall_tau(seq_data_ori, spatial_data_ori, train_genes)\n",
    "    # corr_cross = np.array(kendall_tau).reshape((seq_data_ori.shape[0], spatial_data_ori.shape[0]))\n",
    "\n",
    "    ind_map = np.argsort(corr_cross, axis=0)\n",
    "\n",
    "    # create our \"AVERAGE\" model: for each spot, we selected topK cells according to correlation matrix\n",
    "    topK_ind_map = ind_map[-topK:,:]\n",
    "    impute_list = []\n",
    "    \n",
    "    for ind in topK_ind_map.T:\n",
    "        pred_spot = np.mean(seq_data[:,test_genes].X[ind,:], axis=0)\n",
    "        impute_list.append(pred_spot)\n",
    "    \n",
    "    impute_st = np.squeeze(impute_list)\n",
    "    impute_st_raw = np.exp(impute_st) * spatial_data.obs[\"size_factor\"].to_numpy().reshape(-1,1)\n",
    "\n",
    "    test_gene_list.append(test_genes)\n",
    "\n",
    "    ST_imputed.append(impute_st_raw)"
   ]
  },
  {
   "cell_type": "code",
   "execution_count": null,
   "id": "ba386286-eeba-4f3d-b8e5-3f82b3661d1d",
   "metadata": {},
   "outputs": [],
   "source": [
    "ST_imputed = np.hstack(ST_imputed)"
   ]
  },
  {
   "cell_type": "code",
   "execution_count": null,
   "id": "97f92b1c-3c17-4d30-9a35-0b0336e3fd9b",
   "metadata": {},
   "outputs": [],
   "source": [
    "test_gene_ind = np.concatenate(test_gene_list)\n",
    "spatial_copy = spatial_data[:,test_gene_ind].copy()"
   ]
  },
  {
   "cell_type": "code",
   "execution_count": null,
   "id": "7a8804e7-09dd-43ba-8db1-db50189c1523",
   "metadata": {},
   "outputs": [],
   "source": [
    "from sklearn.metrics import mean_squared_error\n",
    "\n",
    "pearson = []\n",
    "spearman = []\n",
    "kendalltau = []\n",
    "RMSE = []\n",
    "\n",
    "for v1, v2 in zip(spatial_copy.layers[\"raw_counts\"].T, ST_imputed.T):\n",
    "    personR = stats.pearsonr(v1.reshape(-1), v2.reshape(-1))\n",
    "    spearmanR = stats.spearmanr(v1.reshape(-1), v2.reshape(-1))\n",
    "    kentou = stats.kendalltau(v1.reshape(-1), v2.reshape(-1))\n",
    "    rmse = mean_squared_error(v1, v2, squared=False)\n",
    "\n",
    "    pearson.append(personR[0])\n",
    "    spearman.append(spearmanR[0])\n",
    "    kendalltau.append(kentou.statistic)\n",
    "    RMSE.append(rmse)\n",
    "\n",
    "norm_raw = stats.zscore(spatial_copy.layers[\"raw_counts\"], axis=0)\n",
    "norm_imputed = stats.zscore(ST_imputed, axis=0)\n",
    "\n",
    "norm_rmse = []\n",
    "for v1, v2 in zip(norm_raw.T, norm_imputed.T):\n",
    "    rmse = mean_squared_error(v1, v2, squared=False)\n",
    "    norm_rmse.append(rmse)\n",
    "\n",
    "df_sc = pd.DataFrame({\"Pearson\": pearson, \"Spearman\": spearman, \"Kendalltou\":kendalltau, \"norm_RMSE\": norm_rmse,\"RMSE\":RMSE})\n",
    "df_sc.mean()"
   ]
  },
  {
   "cell_type": "code",
   "execution_count": null,
   "id": "bbd8cda5-ef5a-4217-950e-062cad4fa5ab",
   "metadata": {},
   "outputs": [],
   "source": [
    "spatial_copy.obsm[\"imputed\"] = ST_imputed\n",
    "\n",
    "spatial_copy.var[\"Pearson\"] = pearson\n",
    "spatial_copy.var[\"Spearman\"] = spearman\n",
    "spatial_copy.var[\"Kendall_tau\"] = kendalltau\n",
    "spatial_copy.var[\"norm_RMSE\"] = norm_rmse\n",
    "spatial_copy.var[\"RMSE\"] = RMSE"
   ]
  },
  {
   "cell_type": "code",
   "execution_count": null,
   "id": "72a6552a-4868-4531-a47a-b92f9634c7d1",
   "metadata": {},
   "outputs": [],
   "source": [
    "spatial_copy.write_h5ad(f\"./results/naive_base{topK}_ctx_5fold.h5ad\")"
   ]
  },
  {
   "cell_type": "code",
   "execution_count": null,
   "id": "334a1af7-77ec-4fda-bd12-35a33457cc5b",
   "metadata": {},
   "outputs": [],
   "source": []
  }
 ],
 "metadata": {
  "kernelspec": {
   "display_name": "scvi",
   "language": "python",
   "name": "scvi"
  },
  "language_info": {
   "codemirror_mode": {
    "name": "ipython",
    "version": 3
   },
   "file_extension": ".py",
   "mimetype": "text/x-python",
   "name": "python",
   "nbconvert_exporter": "python",
   "pygments_lexer": "ipython3",
   "version": "3.9.18"
  }
 },
 "nbformat": 4,
 "nbformat_minor": 5
}
